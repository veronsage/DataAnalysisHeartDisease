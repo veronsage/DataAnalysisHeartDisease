{
 "cells": [
  {
   "cell_type": "markdown",
   "id": "d0f414b6",
   "metadata": {},
   "source": [
    "1.\tНаписать программу, которая вычисляет площадь фигуры, параметры которой подаются на вход. Фигуры, которые подаются на вход: треугольник, прямоугольник, круг. Результатом работы является словарь, где ключ – это название фигуры, а значение – это площадь."
   ]
  },
  {
   "cell_type": "code",
   "execution_count": 125,
   "id": "3673a39e",
   "metadata": {},
   "outputs": [
    {
     "name": "stdout",
     "output_type": "stream",
     "text": [
      "Площадь какой фигуры Вам нужно вычислить? Введите: треугольник, прямоугольник, круг \n",
      " Для завершения введите пустую строку треугольник\n",
      "Введите длину основания треугольника: 3\n",
      "Введите высоту треугольника: 2\n",
      "Площадь какой фигуры Вам нужно вычислить? Введите: треугольник, прямоугольник, круг \n",
      " Для завершения введите пустую строку прямоугольник\n",
      "Введите длину прямоугольника: 32\n",
      "Введите ширину прямоугольника: 4\n",
      "Площадь какой фигуры Вам нужно вычислить? Введите: треугольник, прямоугольник, круг \n",
      " Для завершения введите пустую строку круг\n",
      "Введите радиус круга: 4\n",
      "Площадь какой фигуры Вам нужно вычислить? Введите: треугольник, прямоугольник, круг \n",
      " Для завершения введите пустую строку \n",
      "\n",
      "Площади фигур:\n",
      "треугольник: 3.0\n",
      "прямоугольник: 128.0\n",
      "круг: 50.26548245743669\n"
     ]
    }
   ],
   "source": [
    "import math\n",
    "\n",
    "def triangle_area(a, h):\n",
    "    return 0.5 * a * h\n",
    "\n",
    "def rectangle_area(a, b):\n",
    "    return a * b\n",
    "\n",
    "def circle_area(r):\n",
    "    return math.pi * r ** 2\n",
    "\n",
    "def main():\n",
    "\n",
    "    figures = [\"треугольник\", \"прямоугольник\", \"круг\"]\n",
    "    results = {}\n",
    "\n",
    "    while True:\n",
    "        choice = input(\"Площадь какой фигуры Вам нужно вычислить? Введите: треугольник, прямоугольник, круг \\n Для завершения введите пустую строку \")\n",
    "\n",
    "        if choice == '':\n",
    "            break\n",
    "\n",
    "        if choice not in figures:\n",
    "            print(\"Фигура неизвестна\")\n",
    "        else:\n",
    "            if choice == \"треугольник\":\n",
    "                a = float(input(\"Введите длину основания треугольника: \"))\n",
    "                h = float(input(\"Введите высоту треугольника: \"))\n",
    "                area = triangle_area(a, h)\n",
    "\n",
    "            elif choice == \"прямоугольник\":\n",
    "                a = float(input(\"Введите длину прямоугольника: \"))\n",
    "                b = float(input(\"Введите ширину прямоугольника: \"))\n",
    "                area = rectangle_area(a, b)\n",
    "\n",
    "            elif choice == \"круг\":\n",
    "                r = float(input(\"Введите радиус круга: \"))\n",
    "                area = circle_area(r)\n",
    "\n",
    "            results[choice] = area\n",
    "\n",
    "    print(\"\\nПлощади фигур:\")\n",
    "    for figure, area in results.items():\n",
    "        print(f\"{figure}: {area}\")\n",
    "\n",
    "\n",
    "if __name__ == \"__main__\":\n",
    "    main()"
   ]
  },
  {
   "cell_type": "markdown",
   "id": "9da2fe15",
   "metadata": {},
   "source": [
    "2.\tНаписать программу, которая на вход получает два числа и операцию, которую к ним нужно применить. Должны быть реализованы следующие операции: +, -, /, //, abs – модуль, pow или ** – возведение в степень."
   ]
  },
  {
   "cell_type": "code",
   "execution_count": 3,
   "id": "3e8cf9b8",
   "metadata": {},
   "outputs": [
    {
     "name": "stdout",
     "output_type": "stream",
     "text": [
      "Введите первое число: 1\n",
      "Введите второе число: 2\n",
      "Введите операцию, которую хотите применить: +, -, /, //, abs, pow, **: +\n",
      "3.0\n"
     ]
    }
   ],
   "source": [
    "import math\n",
    "\n",
    "\n",
    "def addition(a, b):\n",
    "    return a + b\n",
    "\n",
    "\n",
    "def subtraction(a, b):\n",
    "    return a - b\n",
    "\n",
    "\n",
    "def division(a, b):\n",
    "    if b == 0:\n",
    "        return \"Деление на ноль недопустимо\"\n",
    "    return a / b\n",
    "\n",
    "\n",
    "def integer_division(a, b):\n",
    "    if b == 0:\n",
    "        return \"Деление на ноль недопустимо\"\n",
    "    return a // b\n",
    "\n",
    "\n",
    "def absolute(a):\n",
    "    return abs(a)\n",
    "\n",
    "\n",
    "def power_first(a, b):\n",
    "    return a ** b\n",
    "\n",
    "\n",
    "def power_second(a, b):\n",
    "    return math.pow(a, b)\n",
    "\n",
    "\n",
    "def main():\n",
    "    a = float(input(\"Введите первое число: \"))\n",
    "    b = float(input(\"Введите второе число: \"))\n",
    "    operation = input(\"Введите операцию, которую хотите применить: +, -, /, //, abs, pow, **: \")\n",
    "\n",
    "    if operation == '':\n",
    "        print(\"Операция не задана\")\n",
    "    else:\n",
    "        if operation == '+':\n",
    "            res = addition(a, b)\n",
    "            print(res)\n",
    "        elif operation == '-':\n",
    "            res = subtraction(a, b)\n",
    "            print(res)\n",
    "        elif operation == '/':\n",
    "            res = division(a, b)\n",
    "            print(res)\n",
    "        elif operation == '//':\n",
    "            res = integer_division(a, b)\n",
    "            print(res)\n",
    "        elif operation == 'abs':\n",
    "            res = absolute(a)\n",
    "            print(res)\n",
    "        elif operation == 'pow':\n",
    "            res = power_first(a, b)\n",
    "            print(res)\n",
    "        elif operation == '**':\n",
    "            res = power_second(a, b)\n",
    "            print(res)\n",
    "\n",
    "\n",
    "if __name__ == \"__main__\":\n",
    "    main()"
   ]
  },
  {
   "cell_type": "markdown",
   "id": "f61479a3",
   "metadata": {},
   "source": [
    "3. Напишите программу, которая считывает с консоли числа (по\n",
    "одному в строке) до тех пор, пока сумма введённых чисел не будет равна 0 и\n",
    "после этого выводит сумму квадратов всех считанных чисел."
   ]
  },
  {
   "cell_type": "code",
   "execution_count": 4,
   "id": "82eaabd1",
   "metadata": {},
   "outputs": [
    {
     "name": "stdout",
     "output_type": "stream",
     "text": [
      "Введите число: \n",
      "Введите корректное число.\n",
      "Введите число: 1\n",
      "Введите число: 2\n",
      "Введите число: -1\n",
      "Введите число: -2\n",
      "Сумма квадратов введенных чисел: 10.0\n"
     ]
    }
   ],
   "source": [
    "#Список для хранения введенных чисел\n",
    "numbers = []\n",
    "while True:\n",
    "    try:\n",
    "        num = float(input(\"Введите число: \"))\n",
    "        numbers.append(num)\n",
    "        if sum(numbers) == 0:\n",
    "            break\n",
    "    except ValueError:\n",
    "        print(\"Введите корректное число.\")\n",
    "\n",
    "sum_of_squares = sum(x ** 2 for x in numbers)\n",
    "print(f\"Сумма квадратов введенных чисел: {sum_of_squares}\")"
   ]
  },
  {
   "cell_type": "markdown",
   "id": "ad71e772",
   "metadata": {},
   "source": [
    "4. Напишите программу, которая выводит последовательность\n",
    "чисел, длинною N, где каждое число повторяется столько раз, чему оно равно.\n",
    "На вход программе передаётся неотрицательное целое число N. Например,\n",
    "если N = 7, то программа должна вывести 1 2 2 3 3 3 4. Вывод элементов списка\n",
    "через пробел – print(*list)."
   ]
  },
  {
   "cell_type": "code",
   "execution_count": 2,
   "id": "4c27fc20",
   "metadata": {},
   "outputs": [
    {
     "name": "stdout",
     "output_type": "stream",
     "text": [
      "Введите число: 5\n",
      "1 2 2 3 3\n"
     ]
    }
   ],
   "source": [
    "n = int(input(\"Введите число: \"))\n",
    "lis = []\n",
    "#Внешний цикл для перебора чисел\n",
    "for i in range(1, n+1):\n",
    "    #Внутренний цикл для повторений\n",
    "    for j in range(1, i+1):\n",
    "        lis.append(i)\n",
    "print(*lis[:n])"
   ]
  },
  {
   "cell_type": "markdown",
   "id": "9cab0f5e",
   "metadata": {},
   "source": [
    "5. Даны два списка:\n",
    "А = [1, 2, 3, 4, 2, 1, 3, 4, 5, 6, 5, 4, 3, 2]\n",
    "В = [‘a’, ’b’, ’c’, ’c’, ’c’, ’b’, ’a’, ’c’, ’a’, ’a’, ’b’, ’c’, ’b’, ’a’]\n",
    "Создать словарь, в котором ключи – это содержимое списка В, а\n",
    "значения для ключей словаря – это сумма всех элементов списка А в\n",
    "соответствии с буквой, содержащийся на той же позиции в списке В.\n",
    "Пример результата программы: {‘a’ : 10, ‘b’ : 15, ‘c’ : 6}."
   ]
  },
  {
   "cell_type": "code",
   "execution_count": 3,
   "id": "36372273",
   "metadata": {},
   "outputs": [
    {
     "name": "stdout",
     "output_type": "stream",
     "text": [
      "{'a': 17, 'b': 11, 'c': 17}\n"
     ]
    }
   ],
   "source": [
    "a = [1, 2, 3, 4, 2, 1, 3, 4, 5, 6, 5, 4, 3, 2]\n",
    "b = [\"a\", \"b\", \"c\", \"c\", \"c\", \"b\", \"a\", \"c\", \"a\", \"a\", \"b\", \"c\", \"b\", \"a\"]\n",
    "#Создаем пустой словарь\n",
    "dict = {} \n",
    "\n",
    "#Проходим по списка\n",
    "for i in range(len(a)):\n",
    "    key = b[i]\n",
    "    value = a[i]\n",
    "\n",
    "    #Если ключ уже есть в словаре, то увеличиваем значение\n",
    "    if key in dict:\n",
    "        dict[key] += value\n",
    "    #Иначе, добавляем новый ключ с писок\n",
    "    else:\n",
    "        dict[key] = value\n",
    "\n",
    "print(dict)"
   ]
  },
  {
   "cell_type": "markdown",
   "id": "d1a51747",
   "metadata": {},
   "source": [
    "6. Скачать и загрузить данные о стоимости домов в калифорнии,\n",
    "используя библиотеку sklearn. "
   ]
  },
  {
   "cell_type": "code",
   "execution_count": 39,
   "id": "74946d3b",
   "metadata": {},
   "outputs": [
    {
     "name": "stdout",
     "output_type": "stream",
     "text": [
      "Requirement already satisfied: scikit-learn in c:\\users\\user\\anaconda3\\lib\\site-packages (1.3.0)\n",
      "Requirement already satisfied: numpy>=1.17.3 in c:\\users\\user\\anaconda3\\lib\\site-packages (from scikit-learn) (1.21.5)\n",
      "Requirement already satisfied: joblib>=1.1.1 in c:\\users\\user\\anaconda3\\lib\\site-packages (from scikit-learn) (1.3.2)\n",
      "Requirement already satisfied: scipy>=1.5.0 in c:\\users\\user\\anaconda3\\lib\\site-packages (from scikit-learn) (1.9.1)\n",
      "Requirement already satisfied: threadpoolctl>=2.0.0 in c:\\users\\user\\anaconda3\\lib\\site-packages (from scikit-learn) (2.2.0)\n"
     ]
    }
   ],
   "source": [
    "!pip install scikit-learn"
   ]
  },
  {
   "cell_type": "code",
   "execution_count": 1,
   "id": "cacbab09",
   "metadata": {},
   "outputs": [
    {
     "data": {
      "text/plain": [
       "dict_keys(['data', 'target', 'frame', 'target_names', 'feature_names', 'DESCR'])"
      ]
     },
     "execution_count": 1,
     "metadata": {},
     "output_type": "execute_result"
    }
   ],
   "source": [
    "from sklearn.datasets import fetch_california_housing\n",
    "data = fetch_california_housing(as_frame=True)\n",
    "data.keyseys()"
   ]
  },
  {
   "cell_type": "markdown",
   "id": "9f752f5d",
   "metadata": {},
   "source": [
    "7. Использовать метод info()."
   ]
  },
  {
   "cell_type": "code",
   "execution_count": 75,
   "id": "7188a828",
   "metadata": {},
   "outputs": [
    {
     "name": "stdout",
     "output_type": "stream",
     "text": [
      "<class 'pandas.core.frame.DataFrame'>\n",
      "RangeIndex: 20640 entries, 0 to 20639\n",
      "Data columns (total 8 columns):\n",
      " #   Column      Non-Null Count  Dtype  \n",
      "---  ------      --------------  -----  \n",
      " 0   MedInc      20640 non-null  float64\n",
      " 1   HouseAge    20640 non-null  float64\n",
      " 2   AveRooms    20640 non-null  float64\n",
      " 3   AveBedrms   20640 non-null  float64\n",
      " 4   Population  20640 non-null  float64\n",
      " 5   AveOccup    20640 non-null  float64\n",
      " 6   Latitude    20640 non-null  float64\n",
      " 7   Longitude   20640 non-null  float64\n",
      "dtypes: float64(8)\n",
      "memory usage: 1.3 MB\n"
     ]
    }
   ],
   "source": [
    "import pandas as pd\n",
    "\n",
    "# Загружаем данные о стоимости домов в Калифорнии\n",
    "data = fetch_california_housing()\n",
    "\n",
    "# Создаем DataFrame из данных\n",
    "df = pd.DataFrame(data.data, columns=data.feature_names)\n",
    "\n",
    "# Используем метод info() для вывода информации о DataFrame\n",
    "df.info()"
   ]
  },
  {
   "cell_type": "markdown",
   "id": "3d05dc01",
   "metadata": {},
   "source": [
    "8. Узнать, есть ли пропущенные значения, используя isna().sum()."
   ]
  },
  {
   "cell_type": "code",
   "execution_count": 76,
   "id": "c2c6d4ad",
   "metadata": {},
   "outputs": [
    {
     "name": "stdout",
     "output_type": "stream",
     "text": [
      "Пропущенные значения: \n",
      "MedInc        0\n",
      "HouseAge      0\n",
      "AveRooms      0\n",
      "AveBedrms     0\n",
      "Population    0\n",
      "AveOccup      0\n",
      "Latitude      0\n",
      "Longitude     0\n",
      "dtype: int64\n"
     ]
    }
   ],
   "source": [
    "missing_val = df.isna().sum()\n",
    "print(\"Пропущенные значения: \\n{}\".format(missing_val))"
   ]
  },
  {
   "cell_type": "markdown",
   "id": "a64b5c54",
   "metadata": {},
   "source": [
    "9. Вывести записи, где средний возраст домов в районе более 50 лет и\n",
    "население более 2500 человек, используя метод loc()."
   ]
  },
  {
   "cell_type": "code",
   "execution_count": 77,
   "id": "6c98d33c",
   "metadata": {},
   "outputs": [
    {
     "data": {
      "text/html": [
       "<div>\n",
       "<style scoped>\n",
       "    .dataframe tbody tr th:only-of-type {\n",
       "        vertical-align: middle;\n",
       "    }\n",
       "\n",
       "    .dataframe tbody tr th {\n",
       "        vertical-align: top;\n",
       "    }\n",
       "\n",
       "    .dataframe thead th {\n",
       "        text-align: right;\n",
       "    }\n",
       "</style>\n",
       "<table border=\"1\" class=\"dataframe\">\n",
       "  <thead>\n",
       "    <tr style=\"text-align: right;\">\n",
       "      <th></th>\n",
       "      <th>MedInc</th>\n",
       "      <th>HouseAge</th>\n",
       "      <th>AveRooms</th>\n",
       "      <th>AveBedrms</th>\n",
       "      <th>Population</th>\n",
       "      <th>AveOccup</th>\n",
       "      <th>Latitude</th>\n",
       "      <th>Longitude</th>\n",
       "    </tr>\n",
       "  </thead>\n",
       "  <tbody>\n",
       "    <tr>\n",
       "      <th>460</th>\n",
       "      <td>1.4012</td>\n",
       "      <td>52.0</td>\n",
       "      <td>3.105714</td>\n",
       "      <td>1.060000</td>\n",
       "      <td>3337.0</td>\n",
       "      <td>9.534286</td>\n",
       "      <td>37.87</td>\n",
       "      <td>-122.26</td>\n",
       "    </tr>\n",
       "    <tr>\n",
       "      <th>4131</th>\n",
       "      <td>3.5349</td>\n",
       "      <td>52.0</td>\n",
       "      <td>4.646119</td>\n",
       "      <td>1.047945</td>\n",
       "      <td>2589.0</td>\n",
       "      <td>5.910959</td>\n",
       "      <td>34.13</td>\n",
       "      <td>-118.20</td>\n",
       "    </tr>\n",
       "    <tr>\n",
       "      <th>4440</th>\n",
       "      <td>2.6806</td>\n",
       "      <td>52.0</td>\n",
       "      <td>4.806283</td>\n",
       "      <td>1.057592</td>\n",
       "      <td>3062.0</td>\n",
       "      <td>4.007853</td>\n",
       "      <td>34.08</td>\n",
       "      <td>-118.21</td>\n",
       "    </tr>\n",
       "    <tr>\n",
       "      <th>5986</th>\n",
       "      <td>1.8750</td>\n",
       "      <td>52.0</td>\n",
       "      <td>4.500000</td>\n",
       "      <td>1.206349</td>\n",
       "      <td>2688.0</td>\n",
       "      <td>21.333333</td>\n",
       "      <td>34.10</td>\n",
       "      <td>-117.71</td>\n",
       "    </tr>\n",
       "    <tr>\n",
       "      <th>7369</th>\n",
       "      <td>3.1901</td>\n",
       "      <td>52.0</td>\n",
       "      <td>4.730942</td>\n",
       "      <td>1.017937</td>\n",
       "      <td>3731.0</td>\n",
       "      <td>4.182735</td>\n",
       "      <td>33.97</td>\n",
       "      <td>-118.21</td>\n",
       "    </tr>\n",
       "  </tbody>\n",
       "</table>\n",
       "</div>"
      ],
      "text/plain": [
       "      MedInc  HouseAge  AveRooms  AveBedrms  Population   AveOccup  Latitude  \\\n",
       "460   1.4012      52.0  3.105714   1.060000      3337.0   9.534286     37.87   \n",
       "4131  3.5349      52.0  4.646119   1.047945      2589.0   5.910959     34.13   \n",
       "4440  2.6806      52.0  4.806283   1.057592      3062.0   4.007853     34.08   \n",
       "5986  1.8750      52.0  4.500000   1.206349      2688.0  21.333333     34.10   \n",
       "7369  3.1901      52.0  4.730942   1.017937      3731.0   4.182735     33.97   \n",
       "\n",
       "      Longitude  \n",
       "460     -122.26  \n",
       "4131    -118.20  \n",
       "4440    -118.21  \n",
       "5986    -117.71  \n",
       "7369    -118.21  "
      ]
     },
     "execution_count": 77,
     "metadata": {},
     "output_type": "execute_result"
    }
   ],
   "source": [
    "# Фильтруем записи, где средний возраст домов > 50 и население > 2500\n",
    "filtered_df = df.loc[(df['HouseAge'] > 50) & (df['Population'] > 2500)]\n",
    "\n",
    "# Выводим отфильтрованные записи\n",
    "filtered_df.head()"
   ]
  },
  {
   "cell_type": "markdown",
   "id": "d225cd94",
   "metadata": {},
   "source": [
    "10. Узнать максимальное и минимальное значения медианной стоимости дома."
   ]
  },
  {
   "cell_type": "code",
   "execution_count": 86,
   "id": "c3dfb39c",
   "metadata": {},
   "outputs": [
    {
     "name": "stdout",
     "output_type": "stream",
     "text": [
      "Максимальная медианная стоимость - 15.0001\n",
      "Минимальная медианная стоимость - 0.4999\n"
     ]
    }
   ],
   "source": [
    "# Выводим максимальную медианную стоимость\n",
    "print(\"Максимальная медианная стоимость - {}\".format(data.MedInc.max()))\n",
    "# Выводим минимальную медианную стоимость\n",
    "print(\"Минимальная медианная стоимость - {}\".format(df.MedInc.min()))"
   ]
  },
  {
   "cell_type": "markdown",
   "id": "de85a4c2",
   "metadata": {},
   "source": [
    "11. Используя метод apply(), вывести на экран название признака и его среднее значение."
   ]
  },
  {
   "cell_type": "code",
   "execution_count": 120,
   "id": "34457363",
   "metadata": {},
   "outputs": [
    {
     "data": {
      "text/plain": [
       "MedInc           3.870671\n",
       "HouseAge        28.639486\n",
       "AveRooms         5.429000\n",
       "AveBedrms        1.096675\n",
       "Population    1425.476744\n",
       "AveOccup         3.070655\n",
       "Latitude        35.631861\n",
       "Longitude     -119.569704\n",
       "dtype: float64"
      ]
     },
     "execution_count": 120,
     "metadata": {},
     "output_type": "execute_result"
    }
   ],
   "source": [
    "#Вычислим среднее значение для каждого столбца в ДатаФрейме\n",
    "#Метод apply применяет функцию к каждому признаку (строке или столбцу) в ДатаФрейме\n",
    "df.apply(pd.DataFrame.mean)"
   ]
  },
  {
   "cell_type": "code",
   "execution_count": null,
   "id": "1d86e592",
   "metadata": {},
   "outputs": [],
   "source": []
  }
 ],
 "metadata": {
  "kernelspec": {
   "display_name": "Python 3 (ipykernel)",
   "language": "python",
   "name": "python3"
  },
  "language_info": {
   "codemirror_mode": {
    "name": "ipython",
    "version": 3
   },
   "file_extension": ".py",
   "mimetype": "text/x-python",
   "name": "python",
   "nbconvert_exporter": "python",
   "pygments_lexer": "ipython3",
   "version": "3.9.13"
  }
 },
 "nbformat": 4,
 "nbformat_minor": 5
}
